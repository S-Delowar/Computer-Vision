{
 "cells": [
  {
   "cell_type": "markdown",
   "id": "204b1991",
   "metadata": {},
   "source": [
    "# Happy Face Classification using Sequential API"
   ]
  },
  {
   "cell_type": "code",
   "execution_count": 1,
   "id": "2d7cff9b",
   "metadata": {},
   "outputs": [],
   "source": [
    "import math\n",
    "import numpy as np\n",
    "import matplotlib.pyplot as plt\n",
    "from matplotlib.pyplot import imread\n",
    "import scipy\n",
    "from PIL import Image\n",
    "import pandas as pd\n",
    "import tensorflow as tf\n",
    "import tensorflow.keras.layers as tfl\n",
    "from tensorflow.python.framework import ops\n",
    "\n",
    "%matplotlib inline\n",
    "np.random.seed(1)"
   ]
  },
  {
   "cell_type": "code",
   "execution_count": 2,
   "id": "90811905",
   "metadata": {},
   "outputs": [],
   "source": [
    "import h5py"
   ]
  },
  {
   "cell_type": "code",
   "execution_count": 3,
   "id": "133866a8",
   "metadata": {},
   "outputs": [],
   "source": [
    "train_file = h5py.File('Datasets/train_happy.h5', 'r')\n",
    "test_file = h5py.File('Datasets/test_happy.h5', 'r')"
   ]
  },
  {
   "cell_type": "code",
   "execution_count": 4,
   "id": "51d5f5d2",
   "metadata": {},
   "outputs": [
    {
     "name": "stdout",
     "output_type": "stream",
     "text": [
      "Keys in train_file: <KeysViewHDF5 ['list_classes', 'train_set_x', 'train_set_y']>\n",
      "Keys in test_file: <KeysViewHDF5 ['list_classes', 'test_set_x', 'test_set_y']>\n"
     ]
    }
   ],
   "source": [
    "train_keys = train_file.keys()\n",
    "test_keys = test_file.keys()\n",
    "\n",
    "print(\"Keys in train_file:\", train_keys)\n",
    "print(\"Keys in test_file:\", test_keys)"
   ]
  },
  {
   "cell_type": "code",
   "execution_count": 5,
   "id": "596ae0ce",
   "metadata": {},
   "outputs": [],
   "source": [
    "train_x = np.array(train_file['train_set_x'][:])\n",
    "train_y = np.array(train_file['train_set_y'][:])\n",
    "\n",
    "test_x = np.array(test_file['test_set_x'][:])\n",
    "test_y = np.array(test_file['test_set_y'][:])"
   ]
  },
  {
   "cell_type": "code",
   "execution_count": 6,
   "id": "a55581c5",
   "metadata": {},
   "outputs": [
    {
     "name": "stdout",
     "output_type": "stream",
     "text": [
      "(600, 64, 64, 3)\n",
      "(600,)\n"
     ]
    }
   ],
   "source": [
    "print(train_x.shape)\n",
    "print(train_y.shape)"
   ]
  },
  {
   "cell_type": "code",
   "execution_count": 7,
   "id": "bd9f3b8c",
   "metadata": {},
   "outputs": [
    {
     "name": "stdout",
     "output_type": "stream",
     "text": [
      "(150, 64, 64, 3)\n",
      "(150,)\n"
     ]
    }
   ],
   "source": [
    "print(test_x.shape)\n",
    "print(test_y.shape)"
   ]
  },
  {
   "cell_type": "code",
   "execution_count": 8,
   "id": "00bea901",
   "metadata": {},
   "outputs": [],
   "source": [
    "train_y = train_y.reshape((1, train_y.shape[0]))\n",
    "test_y = test_y.reshape((1, test_y.shape[0]))"
   ]
  },
  {
   "cell_type": "code",
   "execution_count": 9,
   "id": "df4b047f",
   "metadata": {},
   "outputs": [
    {
     "name": "stdout",
     "output_type": "stream",
     "text": [
      "(1, 600)\n",
      "(1, 150)\n"
     ]
    }
   ],
   "source": [
    "print(train_y.shape)\n",
    "print(test_y.shape)"
   ]
  },
  {
   "cell_type": "code",
   "execution_count": 10,
   "id": "ede7829d",
   "metadata": {},
   "outputs": [
    {
     "name": "stdout",
     "output_type": "stream",
     "text": [
      "[[0 1 1 1 1 1 0 0 0 1 0 0 1 1 1 1 1 0 0 0 0 1 1 0 1 0 1 1 1 1 1 1 0 1 0 1\n",
      "  0 0 1 1 1 0 1 0 1 1 0 1 0 1 1 0 1 0 0 0 0 1 0 1 1 1 0 1 1 1 1 0 1 0 1 1\n",
      "  0 1 1 0 1 1 1 0 1 1 0 0 0 0 1 0 1 0 1 1 0 0 1 1 0 1 1 0 1 0 1 0 0 1 0 0\n",
      "  1 1 1 0 0 0 1 0 0 1 1 0 1 0 0 1 0 1 1 0 1 0 0 0 1 0 0 0 1 1 0 1 1 0 0 1\n",
      "  1 1 1 1 1 1 1 1 0 0 1 0 0 0 0 0 1 0 0 0 0 0 1 1 1 1 0 0 1 0 1 0 1 1 1 0\n",
      "  0 1 0 0 0 1 0 1 0 0 0 0 0 1 1 0 1 0 0 0 0 1 1 1 0 0 0 1 1 0 0 0 1 0 0 1\n",
      "  0 0 1 1 0 1 0 1 1 1 0 1 1 1 1 1 0 0 0 1 1 1 0 1 0 1 0 1 0 1 1 1 1 0 0 0\n",
      "  1 1 0 0 1 1 0 1 1 1 0 1 1 0 1 1 1 0 0 0 0 1 0 0 0 1 0 1 1 0 1 1 1 0 0 1\n",
      "  1 0 0 0 1 0 0 0 1 0 1 0 1 1 1 0 1 0 1 0 0 0 1 0 0 1 0 1 1 0 0 0 1 0 0 0\n",
      "  1 0 0 1 1 1 0 0 1 0 0 1 0 0 1 0 1 1 1 1 0 0 1 0 1 1 1 0 1 1 0 1 0 0 0 1\n",
      "  0 0 0 1 1 0 1 1 0 0 1 0 1 0 0 0 1 0 0 1 1 1 1 1 0 1 0 1 1 1 0 0 1 1 1 1\n",
      "  0 0 1 1 1 1 1 1 0 1 0 1 0 0 0 1 1 0 1 0 0 0 1 0 1 1 1 1 1 1 0 0 0 1 1 1\n",
      "  1 0 0 1 1 0 0 1 0 0 0 0 0 0 1 0 1 0 0 0 0 1 1 0 1 0 1 0 0 0 0 0 1 0 1 0\n",
      "  1 1 1 0 0 0 1 1 1 1 1 1 0 1 0 0 0 1 0 0 1 0 0 0 1 0 0 0 1 1 0 1 1 0 0 1\n",
      "  1 0 0 1 0 0 1 1 1 0 1 1 1 1 1 0 0 1 0 1 1 1 0 0 0 0 0 0 0 0 0 0 0 1 0 1\n",
      "  1 0 0 1 0 1 0 0 1 1 0 0 1 0 1 0 1 1 0 0 0 0 1 1 0 1 0 0 1 0 1 1 1 0 1 1\n",
      "  0 1 1 0 0 0 1 1 1 0 1 1 1 0 1 0 0 1 0 1 0 0 0 0]]\n"
     ]
    }
   ],
   "source": [
    "print(train_y)"
   ]
  },
  {
   "cell_type": "code",
   "execution_count": 11,
   "id": "9cba6a5a",
   "metadata": {},
   "outputs": [
    {
     "data": {
      "image/png": "[encoded data removed]",
      "text/plain": [
       "<Figure size 432x288 with 1 Axes>"
      ]
     },
     "metadata": {
      "needs_background": "light"
     },
     "output_type": "display_data"
    }
   ],
   "source": [
    "plt.imshow(train_x[500]);\n",
    "plt.show();"
   ]
  },
  {
   "cell_type": "code",
   "execution_count": 12,
   "id": "53cd7409",
   "metadata": {},
   "outputs": [],
   "source": [
    "X_train = train_x / 255.0\n",
    "X_test = test_x / 255.0\n",
    "\n",
    "y_train = train_y.T\n",
    "y_test = test_y.T"
   ]
  },
  {
   "cell_type": "code",
   "execution_count": 13,
   "id": "46ebc83c",
   "metadata": {},
   "outputs": [
    {
     "name": "stdout",
     "output_type": "stream",
     "text": [
      "[1]\n"
     ]
    }
   ],
   "source": [
    "print(y_train[500])"
   ]
  },
  {
   "cell_type": "markdown",
   "id": "576846f1",
   "metadata": {},
   "source": [
    "### Model Building - Sequantial"
   ]
  },
  {
   "cell_type": "code",
   "execution_count": 14,
   "id": "00a4a6e7",
   "metadata": {},
   "outputs": [],
   "source": [
    "def happy_model():\n",
    "    model = tf.keras.Sequential([\n",
    "        tfl.ZeroPadding2D(padding=(3,3), input_shape=(64,64,3)),\n",
    "        tfl.Conv2D(32, 7, strides=(1,1)),\n",
    "        tfl.BatchNormalization(axis=3),\n",
    "        tfl.ReLU(),\n",
    "        tfl.MaxPool2D(),\n",
    "        tfl.Flatten(),\n",
    "        tfl.Dense(1, activation='sigmoid')\n",
    "    ])\n",
    "    return model"
   ]
  },
  {
   "cell_type": "code",
   "execution_count": 15,
   "id": "94d63019",
   "metadata": {},
   "outputs": [],
   "source": [
    "happy_model = happy_model()"
   ]
  },
  {
   "cell_type": "code",
   "execution_count": 16,
   "id": "04819afd",
   "metadata": {},
   "outputs": [],
   "source": [
    "happy_model.compile(optimizer='adam',\n",
    "                   loss='binary_crossentropy',\n",
    "                   metrics=['accuracy'])"
   ]
  },
  {
   "cell_type": "code",
   "execution_count": 17,
   "id": "fad7bf4a",
   "metadata": {},
   "outputs": [
    {
     "name": "stdout",
     "output_type": "stream",
     "text": [
      "Model: \"sequential\"\n",
      "_________________________________________________________________\n",
      " Layer (type)                Output Shape              Param #   \n",
      "=================================================================\n",
      " zero_padding2d (ZeroPadding  (None, 70, 70, 3)        0         \n",
      " 2D)                                                             \n",
      "                                                                 \n",
      " conv2d (Conv2D)             (None, 64, 64, 32)        4736      \n",
      "                                                                 \n",
      " batch_normalization (BatchN  (None, 64, 64, 32)       128       \n",
      " ormalization)                                                   \n",
      "                                                                 \n",
      " re_lu (ReLU)                (None, 64, 64, 32)        0         \n",
      "                                                                 \n",
      " max_pooling2d (MaxPooling2D  (None, 32, 32, 32)       0         \n",
      " )                                                               \n",
      "                                                                 \n",
      " flatten (Flatten)           (None, 32768)             0         \n",
      "                                                                 \n",
      " dense (Dense)               (None, 1)                 32769     \n",
      "                                                                 \n",
      "=================================================================\n",
      "Total params: 37,633\n",
      "Trainable params: 37,569\n",
      "Non-trainable params: 64\n",
      "_________________________________________________________________\n"
     ]
    }
   ],
   "source": [
    "happy_model.summary()"
   ]
  },
  {
   "cell_type": "markdown",
   "id": "c0640770",
   "metadata": {},
   "source": [
    "### Train and Evaluate the Model"
   ]
  },
  {
   "cell_type": "code",
   "execution_count": 18,
   "id": "98a13cda",
   "metadata": {},
   "outputs": [
    {
     "name": "stdout",
     "output_type": "stream",
     "text": [
      "Epoch 1/10\n",
      "38/38 [==============================] - 5s 85ms/step - loss: 1.2457 - accuracy: 0.7033\n",
      "Epoch 2/10\n",
      "38/38 [==============================] - 3s 87ms/step - loss: 0.1988 - accuracy: 0.9233\n",
      "Epoch 3/10\n",
      "38/38 [==============================] - 3s 86ms/step - loss: 0.1515 - accuracy: 0.9500\n",
      "Epoch 4/10\n",
      "38/38 [==============================] - 3s 81ms/step - loss: 0.1764 - accuracy: 0.9333\n",
      "Epoch 5/10\n",
      "38/38 [==============================] - 3s 82ms/step - loss: 0.2942 - accuracy: 0.8950\n",
      "Epoch 6/10\n",
      "38/38 [==============================] - 3s 83ms/step - loss: 0.4336 - accuracy: 0.8767\n",
      "Epoch 7/10\n",
      "38/38 [==============================] - 3s 84ms/step - loss: 0.2244 - accuracy: 0.9233\n",
      "Epoch 8/10\n",
      "38/38 [==============================] - 3s 85ms/step - loss: 0.1182 - accuracy: 0.9633\n",
      "Epoch 9/10\n",
      "38/38 [==============================] - 4s 95ms/step - loss: 0.1103 - accuracy: 0.9667\n",
      "Epoch 10/10\n",
      "38/38 [==============================] - 4s 97ms/step - loss: 0.0703 - accuracy: 0.9683\n"
     ]
    },
    {
     "data": {
      "text/plain": [
       "<keras.callbacks.History at 0x2140b8b7100>"
      ]
     },
     "execution_count": 18,
     "metadata": {},
     "output_type": "execute_result"
    }
   ],
   "source": [
    "happy_model.fit(X_train, y_train, epochs=10, batch_size=16)"
   ]
  },
  {
   "cell_type": "code",
   "execution_count": 19,
   "id": "3fec02c6",
   "metadata": {},
   "outputs": [
    {
     "name": "stdout",
     "output_type": "stream",
     "text": [
      "5/5 [==============================] - 1s 41ms/step - loss: 0.1024 - accuracy: 0.9533\n"
     ]
    },
    {
     "data": {
      "text/plain": [
       "[0.10236315429210663, 0.95333331823349]"
      ]
     },
     "execution_count": 19,
     "metadata": {},
     "output_type": "execute_result"
    }
   ],
   "source": [
    "happy_model.evaluate(X_test, y_test)"
   ]
  },
  {
   "cell_type": "markdown",
   "id": "0936e10c",
   "metadata": {},
   "source": [
    "# Functional API - Hand Digit Sign Dataset"
   ]
  },
  {
   "cell_type": "code",
   "execution_count": 20,
   "id": "2708680d",
   "metadata": {},
   "outputs": [],
   "source": [
    "train_file = h5py.File('Datasets/train_signs.h5', 'r')\n",
    "test_file = h5py.File('Datasets/test_signs.h5', 'r')"
   ]
  },
  {
   "cell_type": "code",
   "execution_count": 21,
   "id": "f32e3e05",
   "metadata": {},
   "outputs": [
    {
     "name": "stdout",
     "output_type": "stream",
     "text": [
      "Train_keys: <KeysViewHDF5 ['list_classes', 'train_set_x', 'train_set_y']>\n",
      "Test_keys: <KeysViewHDF5 ['list_classes', 'test_set_x', 'test_set_y']>\n"
     ]
    }
   ],
   "source": [
    "print('Train_keys:', train_file.keys())\n",
    "print('Test_keys:', test_file.keys())"
   ]
  },
  {
   "cell_type": "code",
   "execution_count": 22,
   "id": "f134e382",
   "metadata": {},
   "outputs": [],
   "source": [
    "train_x = np.array(train_file['train_set_x'][:])\n",
    "train_y = np.array(train_file['train_set_y'][:])\n",
    "\n",
    "test_x = np.array(test_file['test_set_x'][:])\n",
    "test_y = np.array(test_file['test_set_y'][:])"
   ]
  },
  {
   "cell_type": "code",
   "execution_count": 23,
   "id": "c9ca0bea",
   "metadata": {},
   "outputs": [
    {
     "name": "stdout",
     "output_type": "stream",
     "text": [
      "(1080, 64, 64, 3)\n",
      "(1080,)\n"
     ]
    }
   ],
   "source": [
    "print(train_x.shape)\n",
    "print(train_y.shape)"
   ]
  },
  {
   "cell_type": "code",
   "execution_count": 24,
   "id": "292e124c",
   "metadata": {},
   "outputs": [
    {
     "name": "stdout",
     "output_type": "stream",
     "text": [
      "(120,)\n",
      "(120,)\n"
     ]
    }
   ],
   "source": [
    "print(test_y.shape)\n",
    "print(test_y.shape)"
   ]
  },
  {
   "cell_type": "code",
   "execution_count": 25,
   "id": "42eb0d5e",
   "metadata": {},
   "outputs": [
    {
     "name": "stdout",
     "output_type": "stream",
     "text": [
      "[5 0 2 ... 2 4 5]\n"
     ]
    }
   ],
   "source": [
    "print(train_y)"
   ]
  },
  {
   "cell_type": "code",
   "execution_count": 26,
   "id": "a921d620",
   "metadata": {},
   "outputs": [],
   "source": [
    "train_y = train_y.reshape((1, train_y.shape[0]))\n",
    "test_y = test_y.reshape((1, test_y.shape[0]))"
   ]
  },
  {
   "cell_type": "code",
   "execution_count": 27,
   "id": "74af8f6c",
   "metadata": {},
   "outputs": [
    {
     "name": "stdout",
     "output_type": "stream",
     "text": [
      "(1, 1080)\n",
      "(1, 120)\n"
     ]
    }
   ],
   "source": [
    "print(train_y.shape)\n",
    "print(test_y.shape)"
   ]
  },
  {
   "cell_type": "code",
   "execution_count": 28,
   "id": "8b06e542",
   "metadata": {},
   "outputs": [
    {
     "name": "stdout",
     "output_type": "stream",
     "text": [
      "[[5 0 2 ... 2 4 5]]\n"
     ]
    }
   ],
   "source": [
    "print(train_y)"
   ]
  },
  {
   "cell_type": "code",
   "execution_count": 29,
   "id": "044e65f7",
   "metadata": {
    "scrolled": true
   },
   "outputs": [
    {
     "data": {
      "image/png": "[encoded data removed]",
      "text/plain": [
       "<Figure size 432x288 with 1 Axes>"
      ]
     },
     "metadata": {
      "needs_background": "light"
     },
     "output_type": "display_data"
    }
   ],
   "source": [
    "plt.imshow(train_x[0])\n",
    "plt.show();"
   ]
  },
  {
   "cell_type": "code",
   "execution_count": 30,
   "id": "121d8cc5",
   "metadata": {},
   "outputs": [],
   "source": [
    "X_train = train_x / 255.0\n",
    "X_test = test_x / 255.0"
   ]
  },
  {
   "cell_type": "code",
   "execution_count": 31,
   "id": "8693e386",
   "metadata": {},
   "outputs": [],
   "source": [
    "y_train = tf.keras.utils.to_categorical(train_y, num_classes=6)[0]\n",
    "y_test = tf.keras.utils.to_categorical(test_y, num_classes=6)[0]"
   ]
  },
  {
   "cell_type": "code",
   "execution_count": 32,
   "id": "768a04b6",
   "metadata": {},
   "outputs": [
    {
     "data": {
      "text/plain": [
       "(1080, 6)"
      ]
     },
     "execution_count": 32,
     "metadata": {},
     "output_type": "execute_result"
    }
   ],
   "source": [
    "y_train.shape"
   ]
  },
  {
   "cell_type": "code",
   "execution_count": 33,
   "id": "ef63e33b",
   "metadata": {},
   "outputs": [
    {
     "data": {
      "text/plain": [
       "(120, 6)"
      ]
     },
     "execution_count": 33,
     "metadata": {},
     "output_type": "execute_result"
    }
   ],
   "source": [
    "y_test.shape"
   ]
  },
  {
   "cell_type": "code",
   "execution_count": 34,
   "id": "83e15877",
   "metadata": {},
   "outputs": [
    {
     "data": {
      "image/png": "[encoded data removed]",
      "text/plain": [
       "<Figure size 432x288 with 1 Axes>"
      ]
     },
     "metadata": {
      "needs_background": "light"
     },
     "output_type": "display_data"
    },
    {
     "name": "stdout",
     "output_type": "stream",
     "text": [
      "y: [0. 0. 0. 0. 1. 0.]\n"
     ]
    }
   ],
   "source": [
    "plt.imshow(X_train[1020])\n",
    "plt.show();\n",
    "\n",
    "print('y:', y_train[1020])"
   ]
  },
  {
   "cell_type": "code",
   "execution_count": 35,
   "id": "055abd55",
   "metadata": {
    "scrolled": false
   },
   "outputs": [
    {
     "data": {
      "text/plain": [
       "array([[[0.89019608, 0.8627451 , 0.83921569],\n",
       "        [0.89019608, 0.86666667, 0.84313725],\n",
       "        [0.89019608, 0.87058824, 0.84313725],\n",
       "        ...,\n",
       "        [0.90980392, 0.90196078, 0.87843137],\n",
       "        [0.90588235, 0.89803922, 0.87058824],\n",
       "        [0.90196078, 0.89803922, 0.86666667]],\n",
       "\n",
       "       [[0.89019608, 0.86666667, 0.83921569],\n",
       "        [0.89019608, 0.86666667, 0.84313725],\n",
       "        [0.89411765, 0.86666667, 0.84313725],\n",
       "        ...,\n",
       "        [0.90980392, 0.90196078, 0.87843137],\n",
       "        [0.90588235, 0.89803922, 0.87058824],\n",
       "        [0.90588235, 0.89803922, 0.86666667]],\n",
       "\n",
       "       [[0.89019608, 0.86666667, 0.83921569],\n",
       "        [0.89019608, 0.86666667, 0.83921569],\n",
       "        [0.89019608, 0.86666667, 0.84313725],\n",
       "        ...,\n",
       "        [0.90980392, 0.90196078, 0.87843137],\n",
       "        [0.90588235, 0.89803922, 0.8745098 ],\n",
       "        [0.90196078, 0.89803922, 0.86666667]],\n",
       "\n",
       "       ...,\n",
       "\n",
       "       [[0.46666667, 0.31764706, 0.2       ],\n",
       "        [0.48627451, 0.33333333, 0.21568627],\n",
       "        [0.49803922, 0.34117647, 0.22745098],\n",
       "        ...,\n",
       "        [0.82352941, 0.82745098, 0.82745098],\n",
       "        [0.82745098, 0.83137255, 0.82352941],\n",
       "        [0.82352941, 0.82745098, 0.82352941]],\n",
       "\n",
       "       [[0.46666667, 0.30980392, 0.2       ],\n",
       "        [0.48627451, 0.32941176, 0.21568627],\n",
       "        [0.49411765, 0.33333333, 0.21960784],\n",
       "        ...,\n",
       "        [0.82352941, 0.82745098, 0.82352941],\n",
       "        [0.82352941, 0.82745098, 0.82352941],\n",
       "        [0.81960784, 0.82352941, 0.81960784]],\n",
       "\n",
       "       [[0.46666667, 0.31764706, 0.2       ],\n",
       "        [0.48235294, 0.3254902 , 0.21568627],\n",
       "        [0.47843137, 0.32156863, 0.21176471],\n",
       "        ...,\n",
       "        [0.81960784, 0.82352941, 0.82352941],\n",
       "        [0.81960784, 0.82352941, 0.81960784],\n",
       "        [0.81568627, 0.81960784, 0.81960784]]])"
      ]
     },
     "execution_count": 35,
     "metadata": {},
     "output_type": "execute_result"
    }
   ],
   "source": [
    "X_train[0]"
   ]
  },
  {
   "cell_type": "code",
   "execution_count": 36,
   "id": "995ab2a6",
   "metadata": {},
   "outputs": [
    {
     "name": "stdout",
     "output_type": "stream",
     "text": [
      "number of training examples = 1080\n",
      "number of test examples = 120\n",
      "X_train shape: (1080, 64, 64, 3)\n",
      "y_train shape: (1080, 6)\n",
      "X_test shape: (120, 64, 64, 3)\n",
      "y_test shape: (120, 6)\n"
     ]
    }
   ],
   "source": [
    "print (\"number of training examples = \" + str(X_train.shape[0]))\n",
    "print (\"number of test examples = \" + str(X_test.shape[0]))\n",
    "print (\"X_train shape: \" + str(X_train.shape))\n",
    "print (\"y_train shape: \" + str(y_train.shape))\n",
    "print (\"X_test shape: \" + str(X_test.shape))\n",
    "print (\"y_test shape: \" + str(y_test.shape))"
   ]
  },
  {
   "cell_type": "markdown",
   "id": "e90cd983",
   "metadata": {},
   "source": [
    "### Model Building - Functional API"
   ]
  },
  {
   "cell_type": "code",
   "execution_count": 37,
   "id": "a9dd9ba0",
   "metadata": {},
   "outputs": [],
   "source": [
    "def conv_model(input_shape):\n",
    "    input_img = tf.keras.Input(shape=input_shape)\n",
    "    Z1 = tfl.Conv2D(8,4, strides=(1,1), padding='same')(input_img)\n",
    "    A1 = tfl.ReLU()(Z1)\n",
    "    P1 = tfl.MaxPool2D(pool_size=(8,8), strides=(8,8), padding='same')(A1)\n",
    "    Z2 = tfl.Conv2D(16, 2, strides=(1,1), padding='same')(P1)\n",
    "    A2 = tfl.ReLU()(Z2)\n",
    "    P2 = tfl.MaxPool2D(pool_size=(4,4), strides=(4,4), padding='same')(A2)\n",
    "    F = tfl.Flatten()(P2)\n",
    "    outputs = tfl.Dense(6, activation='softmax')(F)\n",
    "    \n",
    "    model = tf.keras.Model(inputs=input_img, outputs=outputs)\n",
    "    return model"
   ]
  },
  {
   "cell_type": "code",
   "execution_count": 38,
   "id": "706e685c",
   "metadata": {},
   "outputs": [],
   "source": [
    "sign_model = conv_model((64,64,3))"
   ]
  },
  {
   "cell_type": "code",
   "execution_count": 39,
   "id": "41f648db",
   "metadata": {},
   "outputs": [],
   "source": [
    "sign_model.compile(optimizer='adam',\n",
    "                  loss='categorical_crossentropy',\n",
    "                  metrics=['accuracy'])"
   ]
  },
  {
   "cell_type": "code",
   "execution_count": 40,
   "id": "eb7be914",
   "metadata": {},
   "outputs": [
    {
     "name": "stdout",
     "output_type": "stream",
     "text": [
      "Model: \"model\"\n",
      "_________________________________________________________________\n",
      " Layer (type)                Output Shape              Param #   \n",
      "=================================================================\n",
      " input_1 (InputLayer)        [(None, 64, 64, 3)]       0         \n",
      "                                                                 \n",
      " conv2d_1 (Conv2D)           (None, 64, 64, 8)         392       \n",
      "                                                                 \n",
      " re_lu_1 (ReLU)              (None, 64, 64, 8)         0         \n",
      "                                                                 \n",
      " max_pooling2d_1 (MaxPooling  (None, 8, 8, 8)          0         \n",
      " 2D)                                                             \n",
      "                                                                 \n",
      " conv2d_2 (Conv2D)           (None, 8, 8, 16)          528       \n",
      "                                                                 \n",
      " re_lu_2 (ReLU)              (None, 8, 8, 16)          0         \n",
      "                                                                 \n",
      " max_pooling2d_2 (MaxPooling  (None, 2, 2, 16)         0         \n",
      " 2D)                                                             \n",
      "                                                                 \n",
      " flatten_1 (Flatten)         (None, 64)                0         \n",
      "                                                                 \n",
      " dense_1 (Dense)             (None, 6)                 390       \n",
      "                                                                 \n",
      "=================================================================\n",
      "Total params: 1,310\n",
      "Trainable params: 1,310\n",
      "Non-trainable params: 0\n",
      "_________________________________________________________________\n"
     ]
    }
   ],
   "source": [
    "sign_model.summary()"
   ]
  },
  {
   "cell_type": "code",
   "execution_count": 41,
   "id": "b399df53",
   "metadata": {
    "scrolled": true
   },
   "outputs": [],
   "source": [
    "train_dataset = tf.data.Dataset.from_tensor_slices((X_train, y_train)).batch(64)\n",
    "test_dataset = tf.data.Dataset.from_tensor_slices((X_test, y_test)).batch(64)"
   ]
  },
  {
   "cell_type": "code",
   "execution_count": null,
   "id": "e9da7d7b",
   "metadata": {},
   "outputs": [
    {
     "name": "stdout",
     "output_type": "stream",
     "text": [
      "Epoch 1/100\n",
      "17/17 [==============================] - 3s 117ms/step - loss: 1.8082 - accuracy: 0.1231 - val_loss: 1.7920 - val_accuracy: 0.1500\n",
      "Epoch 2/100\n",
      "17/17 [==============================] - 1s 82ms/step - loss: 1.7936 - accuracy: 0.1537 - val_loss: 1.7876 - val_accuracy: 0.1750\n",
      "Epoch 3/100\n",
      "17/17 [==============================] - 1s 78ms/step - loss: 1.7850 - accuracy: 0.1843 - val_loss: 1.7809 - val_accuracy: 0.2000\n",
      "Epoch 4/100\n",
      "17/17 [==============================] - 1s 78ms/step - loss: 1.7795 - accuracy: 0.1778 - val_loss: 1.7759 - val_accuracy: 0.2167\n",
      "Epoch 5/100\n",
      "17/17 [==============================] - 1s 77ms/step - loss: 1.7740 - accuracy: 0.1991 - val_loss: 1.7692 - val_accuracy: 0.2667\n",
      "Epoch 6/100\n",
      "17/17 [==============================] - 1s 80ms/step - loss: 1.7677 - accuracy: 0.2315 - val_loss: 1.7632 - val_accuracy: 0.3000\n",
      "Epoch 7/100\n",
      "17/17 [==============================] - 1s 77ms/step - loss: 1.7614 - accuracy: 0.2481 - val_loss: 1.7563 - val_accuracy: 0.3167\n",
      "Epoch 8/100\n",
      "17/17 [==============================] - 1s 75ms/step - loss: 1.7542 - accuracy: 0.2787 - val_loss: 1.7488 - val_accuracy: 0.3417\n",
      "Epoch 9/100\n",
      "17/17 [==============================] - 1s 79ms/step - loss: 1.7468 - accuracy: 0.3019 - val_loss: 1.7402 - val_accuracy: 0.3667\n",
      "Epoch 10/100\n",
      "17/17 [==============================] - 1s 80ms/step - loss: 1.7375 - accuracy: 0.3333 - val_loss: 1.7306 - val_accuracy: 0.3833\n",
      "Epoch 11/100\n",
      "17/17 [==============================] - 1s 78ms/step - loss: 1.7276 - accuracy: 0.3380 - val_loss: 1.7194 - val_accuracy: 0.4000\n",
      "Epoch 12/100\n",
      "17/17 [==============================] - 1s 77ms/step - loss: 1.7152 - accuracy: 0.3583 - val_loss: 1.7069 - val_accuracy: 0.4583\n",
      "Epoch 13/100\n",
      "17/17 [==============================] - 1s 78ms/step - loss: 1.7013 - accuracy: 0.3694 - val_loss: 1.6912 - val_accuracy: 0.4583\n",
      "Epoch 14/100\n",
      "17/17 [==============================] - 1s 80ms/step - loss: 1.6846 - accuracy: 0.3898 - val_loss: 1.6738 - val_accuracy: 0.4667\n",
      "Epoch 15/100\n",
      "17/17 [==============================] - 1s 80ms/step - loss: 1.6649 - accuracy: 0.4046 - val_loss: 1.6507 - val_accuracy: 0.4833\n",
      "Epoch 16/100\n",
      "17/17 [==============================] - 1s 81ms/step - loss: 1.6405 - accuracy: 0.4269 - val_loss: 1.6271 - val_accuracy: 0.4750\n",
      "Epoch 17/100\n",
      "17/17 [==============================] - 1s 79ms/step - loss: 1.6113 - accuracy: 0.4343 - val_loss: 1.6011 - val_accuracy: 0.5083\n",
      "Epoch 18/100\n",
      "17/17 [==============================] - 1s 76ms/step - loss: 1.5790 - accuracy: 0.4648 - val_loss: 1.5676 - val_accuracy: 0.5167\n",
      "Epoch 19/100\n",
      "17/17 [==============================] - 1s 81ms/step - loss: 1.5426 - accuracy: 0.4750 - val_loss: 1.5350 - val_accuracy: 0.5250\n",
      "Epoch 20/100\n",
      "17/17 [==============================] - 1s 78ms/step - loss: 1.5053 - accuracy: 0.4935 - val_loss: 1.4985 - val_accuracy: 0.5333\n",
      "Epoch 21/100\n",
      "17/17 [==============================] - 1s 78ms/step - loss: 1.4666 - accuracy: 0.5019 - val_loss: 1.4630 - val_accuracy: 0.5250\n",
      "Epoch 22/100\n",
      "17/17 [==============================] - 1s 79ms/step - loss: 1.4243 - accuracy: 0.5093 - val_loss: 1.4244 - val_accuracy: 0.4917\n",
      "Epoch 23/100\n",
      "17/17 [==============================] - 1s 86ms/step - loss: 1.3819 - accuracy: 0.5167 - val_loss: 1.3866 - val_accuracy: 0.5167\n",
      "Epoch 24/100\n",
      "17/17 [==============================] - 1s 82ms/step - loss: 1.3392 - accuracy: 0.5333 - val_loss: 1.3436 - val_accuracy: 0.5333\n",
      "Epoch 25/100\n",
      "17/17 [==============================] - 1s 80ms/step - loss: 1.2982 - accuracy: 0.5472 - val_loss: 1.3067 - val_accuracy: 0.5250\n",
      "Epoch 26/100\n",
      "17/17 [==============================] - 1s 81ms/step - loss: 1.2619 - accuracy: 0.5509 - val_loss: 1.2708 - val_accuracy: 0.5500\n",
      "Epoch 27/100\n",
      "17/17 [==============================] - 1s 79ms/step - loss: 1.2248 - accuracy: 0.5611 - val_loss: 1.2364 - val_accuracy: 0.5417\n",
      "Epoch 28/100\n",
      "17/17 [==============================] - 1s 80ms/step - loss: 1.1913 - accuracy: 0.5722 - val_loss: 1.2053 - val_accuracy: 0.5333\n",
      "Epoch 29/100\n",
      "17/17 [==============================] - 1s 83ms/step - loss: 1.1616 - accuracy: 0.5852 - val_loss: 1.1758 - val_accuracy: 0.5417\n",
      "Epoch 30/100\n",
      "17/17 [==============================] - 1s 79ms/step - loss: 1.1309 - accuracy: 0.5907 - val_loss: 1.1459 - val_accuracy: 0.5500\n",
      "Epoch 31/100\n",
      "17/17 [==============================] - 1s 81ms/step - loss: 1.1035 - accuracy: 0.5981 - val_loss: 1.1207 - val_accuracy: 0.5583\n",
      "Epoch 32/100\n",
      "17/17 [==============================] - 1s 80ms/step - loss: 1.0782 - accuracy: 0.6093 - val_loss: 1.0947 - val_accuracy: 0.5667\n",
      "Epoch 33/100\n",
      "17/17 [==============================] - 1s 81ms/step - loss: 1.0527 - accuracy: 0.6176 - val_loss: 1.0692 - val_accuracy: 0.5667\n",
      "Epoch 34/100\n",
      "17/17 [==============================] - 1s 79ms/step - loss: 1.0301 - accuracy: 0.6287 - val_loss: 1.0471 - val_accuracy: 0.5750\n",
      "Epoch 35/100\n",
      "17/17 [==============================] - 1s 80ms/step - loss: 1.0080 - accuracy: 0.6343 - val_loss: 1.0248 - val_accuracy: 0.6083\n",
      "Epoch 36/100\n",
      "16/17 [===========================>..] - ETA: 0s - loss: 0.9852 - accuracy: 0.6436"
     ]
    }
   ],
   "source": [
    "# Train the model\n",
    "history = sign_model.fit(train_dataset, epochs=100, validation_data=test_dataset)"
   ]
  },
  {
   "cell_type": "code",
   "execution_count": null,
   "id": "aabba25f",
   "metadata": {},
   "outputs": [],
   "source": [
    "# History Object\n",
    "history.history"
   ]
  },
  {
   "cell_type": "code",
   "execution_count": null,
   "id": "c65165ba",
   "metadata": {
    "scrolled": true
   },
   "outputs": [],
   "source": [
    "# Ploting Losses and Accuracies vs epochs\n",
    "df_loss_acc = pd.DataFrame(history.history)\n",
    "# print(df_loss_acc)\n",
    "df_loss_acc.rename(columns={'loss':'train_loss', 'accuracy':'train_accuracy'}, inplace=True)\n",
    "df_loss = df_loss_acc[['train_loss', 'val_loss']]\n",
    "df_acc = df_loss_acc[['train_accuracy', 'val_accuracy']]\n",
    "\n",
    "# Plot\n",
    "df_loss.plot(title='Model Losses', figsize=(10,6)).set(xlabel='Epochs', ylabel='Losses');\n",
    "df_acc.plot(title='Model Accuracies', figsize=(10,6)).set(xlabel='Epochs', ylabel='Accuracies');"
   ]
  },
  {
   "cell_type": "code",
   "execution_count": null,
   "id": "a4cc89ff",
   "metadata": {},
   "outputs": [],
   "source": [
    "# Test on an image\n",
    "plt.imshow(X_test[30])\n",
    "plt.show();"
   ]
  },
  {
   "cell_type": "code",
   "execution_count": null,
   "id": "d7f8fffa",
   "metadata": {},
   "outputs": [],
   "source": [
    "X_test[30].shape"
   ]
  },
  {
   "cell_type": "code",
   "execution_count": null,
   "id": "ba0dce45",
   "metadata": {},
   "outputs": [],
   "source": [
    "pred = sign_model.predict(X_test[[30]])"
   ]
  },
  {
   "cell_type": "code",
   "execution_count": null,
   "id": "e32cc01f",
   "metadata": {},
   "outputs": [],
   "source": [
    "np.set_printoptions(suppress=True)\n",
    "print(pred)"
   ]
  },
  {
   "cell_type": "code",
   "execution_count": null,
   "id": "5df7e56e",
   "metadata": {},
   "outputs": [],
   "source": []
  }
 ],
 "metadata": {
  "kernelspec": {
   "display_name": "Python 3 (ipykernel)",
   "language": "python",
   "name": "python3"
  },
  "language_info": {
   "codemirror_mode": {
    "name": "ipython",
    "version": 3
   },
   "file_extension": ".py",
   "mimetype": "text/x-python",
   "name": "python",
   "nbconvert_exporter": "python",
   "pygments_lexer": "ipython3",
   "version": "3.9.12"
  }
 },
 "nbformat": 4,
 "nbformat_minor": 5
}
